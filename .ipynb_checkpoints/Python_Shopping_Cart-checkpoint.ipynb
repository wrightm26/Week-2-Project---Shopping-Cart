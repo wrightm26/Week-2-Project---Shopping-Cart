{
 "cells": [
  {
   "cell_type": "code",
   "execution_count": 1,
   "id": "5087f47e",
   "metadata": {},
   "outputs": [],
   "source": [
    "concert_search = {\n",
    "    'PARTYNEXTDOOR':{\n",
    "        'dates': ['February 27','February 28','March 1', 'March 2'],\n",
    "        'times': ['6:30', '7:30', '8:30', '9:30'],\n",
    "        'price': [70.00]\n",
    "        },\n",
    "    'Tink':{\n",
    "        'dates': ['February 27','February 28','March 1', 'March 2'],\n",
    "        'times': ['6:30', '7:30', '8:30', '9:30'],\n",
    "        'price': [65.00]\n",
    "        },\n",
    "    'Glorilla':{\n",
    "        'dates': ['February 27','February 28','March 1', 'March 2'],\n",
    "        'times': ['6:30', '7:30', '8:30', '9:30'],\n",
    "        'price': [95.00]\n",
    "        },\n",
    "    'Kodak_Black':{\n",
    "        'dates': ['February 27','February 28','March 1', 'March 2'],\n",
    "        'times': ['6:30', '7:30', '8:30', '9:30'],\n",
    "        'price': [100.00]\n",
    "        }\n",
    "}\n",
    "for concert_artist, concert_options in concert_search.items():\n",
    "    if concert_artist == 'partynextdoor':\n",
    "        for key, value in concert_options:\n",
    "            concert_price = value * 5 "
   ]
  },
  {
   "cell_type": "code",
   "execution_count": 2,
   "id": "d40921ae",
   "metadata": {},
   "outputs": [
    {
     "data": {
      "text/plain": [
       "{'PARTYNEXTDOOR': {'dates': ['February 27',\n",
       "   'February 28',\n",
       "   'March 1',\n",
       "   'March 2'],\n",
       "  'times': ['6:30', '7:30', '8:30', '9:30'],\n",
       "  'price': [70.0]},\n",
       " 'Tink': {'dates': ['February 27', 'February 28', 'March 1', 'March 2'],\n",
       "  'times': ['6:30', '7:30', '8:30', '9:30'],\n",
       "  'price': [65.0]},\n",
       " 'Glorilla': {'dates': ['February 27', 'February 28', 'March 1', 'March 2'],\n",
       "  'times': ['6:30', '7:30', '8:30', '9:30'],\n",
       "  'price': [95.0]},\n",
       " 'Kodak_Black': {'dates': ['February 27', 'February 28', 'March 1', 'March 2'],\n",
       "  'times': ['6:30', '7:30', '8:30', '9:30'],\n",
       "  'price': [100.0]}}"
      ]
     },
     "execution_count": 2,
     "metadata": {},
     "output_type": "execute_result"
    }
   ],
   "source": [
    "concert_search"
   ]
  },
  {
   "cell_type": "code",
   "execution_count": null,
   "id": "32d0e8f4",
   "metadata": {},
   "outputs": [],
   "source": [
    "#create a while statement to continue asking about the concert as long as the person is interested\n",
    "#create a for loop to focus on the artist they want to hear\n",
    "#ask which concert they would like to atten\n",
    "    \n",
    "def concert_cart():\n",
    "    concert_search = {\n",
    "    'PARTYNEXTDOOR':{\n",
    "        'dates': ['February 27','February 28','March 1', 'March 2'],\n",
    "        'times': ['6:30', '7:30', '8:30', '9:30'],\n",
    "        'price': 70\n",
    "        },\n",
    "    'Tink':{\n",
    "        'dates': ['February 27','February 28','March 1', 'March 2'],\n",
    "        'times': ['6:30', '7:30', '8:30', '9:30'],\n",
    "        'price': 65\n",
    "        },\n",
    "    'Glorilla':{\n",
    "        'dates': ['February 27','February 28','March 1', 'March 2'],\n",
    "        'times': ['6:30', '7:30', '8:30', '9:30'],\n",
    "        'price': 95\n",
    "        },\n",
    "    'Kodak_Black':{\n",
    "        'dates': ['February 27','February 28','March 1', 'March 2'],\n",
    "        'times': ['6:30', '7:30', '8:30', '9:30'],\n",
    "        'price': 100\n",
    "        }\n",
    "}\n",
    "    your_cart = {}\n",
    "    while True:\n",
    "            artist_pick = input(\"\\nWhich of the following concerts would you like to attend?\\nPARTYNEXTDOOR\\t$70\\nTink\\t\\t$65.00\\nGlorilla\\t$95.00\\nKodak Black\\t$100.00\\n\").lower()\n",
    "            while artist_pick not in {'partynextdoor','tink','glorilla','kodak black'}:\n",
    "                artist_pick = input(\"\\nThat option is not available!\\nWhich of the following concerts would you like to attend?\\nPARTYNEXTDOOR\\t$70\\nTink\\t\\t$65.00\\nGlorilla\\t$95.00\\nKodak Black\\t$100.00\\n\").lower()\n",
    "            date_pick = input(f\"\\nWhich date would you like to attend {artist_pick.upper()}'s concert?\\nFebruary 27\\nFebruary 28\\nMarch 1\\nMarch 2\\n\").lower()\n",
    "            while date_pick not in {'february 27','february 28','march 1','march 2'}:\n",
    "                date_pick = input(f\"\\nThat option is not available!\\nWhich date would you like to attend {artist_pick.upper()}'s concert?\\nFebruary 27\\nFebruary 28\\nMarch 1\\nMarch 2\\n\").lower()\n",
    "            time_pick = input(f\"\\nWhich of the following times would you like to attend {artist_pick.upper()}'s concert on {date_pick.upper()}?\\n6:30\\n7:30\\n8:30\\n9:30\\n\").lower()\n",
    "            while time_pick not in {'6:30','7:30','8:30','9:30'}:\n",
    "                time_pick = input(f\"\\nThat option is not available!\\nWhich of the following times would you like to attend {artist_pick.upper()}'s concert on {date_pick.upper()}?\\n6:30\\n7:30\\n8:30\\n9:30\\n\").lower()\n",
    "            quantity_pick = int(input(f\"\\nHow many ticket's would you like to purchase for {artist_pick.upper()}'s concert on {date_pick.upper()} at {time_pick}pm?\\n(You can only purchase up to 10 tickets for each concert!)\\n\").lower())\n",
    "            while quantity_pick not in range(0,11):\n",
    "                quantity_pick = int(input(f\"\\nThat option is not available!\\nHow many ticket's would you like to purchase for {artist_pick.upper()}'s concert on {date_pick.upper()} at {time_pick}pm?\\n(You can only purchase up to 10 tickets for each concert!)\\n\").lower())\n",
    "            for concert_artist, concert_options in concert_search.items():\n",
    "                if concert_artist[0] == artist_pick:\n",
    "                    for key, value in concert_options:\n",
    "                        concert_price = value[2] * quantity_pick\n",
    "            print(f\"Your total price for {quantity_pick} tickets is ${concert_price:.2f}!\")\n",
    "            add_ons = input(\"Would you like to purchase anymore concert tickets?\\nyes/no\\n\")\n",
    "            your_cart[artist_pick] = {\n",
    "                'Date' : date_pick,\n",
    "                'Time' : time_pick,\n",
    "                'Quantity' : quantity_pick\n",
    "            }\n",
    "            if add_ons == 'no':\n",
    "                break\n",
    "            \n",
    "    for artist, concert_info in your_cart.items():\n",
    "        options = input(\"Choose one of the following options:\\nAdd (to ADD another concert)\\nRemove (to REMOVE a concert)\\nContinue (to CHECKOUT)\\n\").lower()\n",
    "        if options == 'remove':\n",
    "            (f\"Concert: {artist.title()}\\nConcert Information: {concert_info}\")\n",
    "            continue\n",
    "            choose = input(\"Which concert would you like to remove?\")\n",
    "            \n",
    "        \n",
    "    \n",
    "                \n",
    "concert_cart()"
   ]
  },
  {
   "cell_type": "code",
   "execution_count": null,
   "id": "fe6aba64",
   "metadata": {},
   "outputs": [],
   "source": [
    "your_cart"
   ]
  },
  {
   "cell_type": "code",
   "execution_count": null,
   "id": "26e5f0fc",
   "metadata": {},
   "outputs": [],
   "source": []
  },
  {
   "cell_type": "code",
   "execution_count": null,
   "id": "6a0d0a69",
   "metadata": {},
   "outputs": [],
   "source": []
  }
 ],
 "metadata": {
  "kernelspec": {
   "display_name": "Python 3 (ipykernel)",
   "language": "python",
   "name": "python3"
  },
  "language_info": {
   "codemirror_mode": {
    "name": "ipython",
    "version": 3
   },
   "file_extension": ".py",
   "mimetype": "text/x-python",
   "name": "python",
   "nbconvert_exporter": "python",
   "pygments_lexer": "ipython3",
   "version": "3.9.13"
  }
 },
 "nbformat": 4,
 "nbformat_minor": 5
}
